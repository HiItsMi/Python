{
  "nbformat": 4,
  "nbformat_minor": 0,
  "metadata": {
    "colab": {
      "name": "Day01_0902.ipynb",
      "provenance": [],
      "collapsed_sections": [],
      "authorship_tag": "ABX9TyOLsnzHUa0OWhpkyENeN/MC",
      "include_colab_link": true
    },
    "kernelspec": {
      "name": "python3",
      "display_name": "Python 3"
    },
    "language_info": {
      "name": "python"
    }
  },
  "cells": [
    {
      "cell_type": "markdown",
      "metadata": {
        "id": "view-in-github",
        "colab_type": "text"
      },
      "source": [
        "<a href=\"https://colab.research.google.com/github/HiItsMi/Python/blob/main/Day01_0902.ipynb\" target=\"_parent\"><img src=\"https://colab.research.google.com/assets/colab-badge.svg\" alt=\"Open In Colab\"/></a>"
      ]
    },
    {
      "cell_type": "code",
      "metadata": {
        "colab": {
          "base_uri": "https://localhost:8080/"
        },
        "id": "memdPmnODq5b",
        "outputId": "91e069bf-560b-42d1-c898-75ed2ae8a4a1"
      },
      "source": [
        "# 정수형\n",
        "a = 123\n",
        "print(a)\n",
        "\n",
        "b = 3.14\n",
        "print(b)\n",
        "\n",
        "c = \"Hi\"\n",
        "print(c)"
      ],
      "execution_count": null,
      "outputs": [
        {
          "output_type": "stream",
          "name": "stdout",
          "text": [
            "123\n",
            "3.14\n",
            "Hi\n"
          ]
        }
      ]
    },
    {
      "cell_type": "code",
      "metadata": {
        "colab": {
          "base_uri": "https://localhost:8080/"
        },
        "id": "UPUuzXM1MD9l",
        "outputId": "fe27ec62-feb5-4c42-99bc-c2705311acef"
      },
      "source": [
        "# 숫자형 연산\n",
        "a = 3\n",
        "b = 4\n",
        "a+b"
      ],
      "execution_count": null,
      "outputs": [
        {
          "output_type": "execute_result",
          "data": {
            "text/plain": [
              "7"
            ]
          },
          "metadata": {},
          "execution_count": 5
        }
      ]
    },
    {
      "cell_type": "code",
      "metadata": {
        "colab": {
          "base_uri": "https://localhost:8080/"
        },
        "id": "sscbAJscPUDk",
        "outputId": "8f0c50a7-7606-4ae6-fce6-3c05463f182d"
      },
      "source": [
        "# 나머지 연산\n",
        "b % a\n",
        "# % : 몫은 버리고 나머지만 취하는 연산자"
      ],
      "execution_count": null,
      "outputs": [
        {
          "output_type": "execute_result",
          "data": {
            "text/plain": [
              "1"
            ]
          },
          "metadata": {},
          "execution_count": 7
        }
      ]
    },
    {
      "cell_type": "code",
      "metadata": {
        "colab": {
          "base_uri": "https://localhost:8080/"
        },
        "id": "rqmuNhOiPaaa",
        "outputId": "8125aa48-cdeb-4942-ad7d-412d235de46a"
      },
      "source": [
        "a == b"
      ],
      "execution_count": null,
      "outputs": [
        {
          "output_type": "execute_result",
          "data": {
            "text/plain": [
              "False"
            ]
          },
          "metadata": {},
          "execution_count": 8
        }
      ]
    },
    {
      "cell_type": "code",
      "metadata": {
        "colab": {
          "base_uri": "https://localhost:8080/"
        },
        "id": "Nln9sWB1QDzg",
        "outputId": "26223701-0961-4b82-a0a7-b69db5a3029a"
      },
      "source": [
        "# 문자열 자료형 String\n",
        "# 파이선에서는 '',\"\"를 동일하게 사용함\n",
        "a = \"Hello World\"\n",
        "print(a)"
      ],
      "execution_count": null,
      "outputs": [
        {
          "output_type": "stream",
          "name": "stdout",
          "text": [
            "Hello World\n"
          ]
        }
      ]
    },
    {
      "cell_type": "code",
      "metadata": {
        "colab": {
          "base_uri": "https://localhost:8080/"
        },
        "id": "AYZibpHkQgIT",
        "outputId": "161c78e6-512e-4fb8-ed18-a377d235fdb0"
      },
      "source": [
        "# 문자열을 다루는 법\n",
        "a = \"Hello\"\n",
        "print(a)\n",
        "b = 'Hello'\n",
        "print(b)\n",
        "c = \"hel'lo\"\n",
        "print(c)\n",
        "d = 'hel\"lo'\n",
        "print(d)\n",
        "e = 'hel\\'lo'\n",
        "print(e)\n",
        "f = \"hel\\\"lo\"\n",
        "print(f)"
      ],
      "execution_count": null,
      "outputs": [
        {
          "output_type": "stream",
          "name": "stdout",
          "text": [
            "Hello\n",
            "Hello\n",
            "hel'lo\n",
            "hel\"lo\n",
            "hel'lo\n",
            "hel\"lo\n"
          ]
        }
      ]
    },
    {
      "cell_type": "code",
      "metadata": {
        "colab": {
          "base_uri": "https://localhost:8080/"
        },
        "id": "5CyafEuTRFOk",
        "outputId": "d34ab94c-8194-437e-b4ff-ed4e0e9fc5fd"
      },
      "source": [
        "a = '''\n",
        "Hello\n",
        "World\n",
        "!!!\n",
        "'''\n",
        "print(a)"
      ],
      "execution_count": null,
      "outputs": [
        {
          "output_type": "stream",
          "name": "stdout",
          "text": [
            "\n",
            "Hello\n",
            "World\n",
            "!!!\n",
            "\n"
          ]
        }
      ]
    },
    {
      "cell_type": "code",
      "metadata": {
        "colab": {
          "base_uri": "https://localhost:8080/",
          "height": 35
        },
        "id": "LGTrtHF-RUZF",
        "outputId": "e54011e5-2aa5-4490-eb27-a454e5e8ec25"
      },
      "source": [
        "# 리스트 자료형\n",
        "\n",
        "z = []    # 빈 리스트를 만들 수도 있음\n",
        "z = [1, 3, 5, 7, 9]     # 숫자형만 담을 수도 있음 \n",
        "z = ['a','b','c','d']   # 문자형만 담을 수도 있음\n",
        "z = [1, 2, 'a', 'b']    # 숫자형 문자형 섞어 담을 수도 있음\n",
        "\n",
        "# 자료형에서 데이터를 꺼내 쓰는 방법\n",
        "# 인덱싱 - 한개씩 꺼내는 방법\n",
        "z[1]\n",
        "z[-1] # 맨마지막 요소를 꺼내는 방법\n",
        "z[0] + z[1]\n",
        "\n",
        "\n",
        "# 슬라이싱 - 여러개를 한번에 꺼내는 방법\n",
        "z[0:3]\n",
        "z[:2]\n",
        "z[2:]\n",
        "z[:]\n",
        "\n",
        "# 문자열\n",
        "\n",
        "a = '12345'\n",
        "a[2]\n",
        "a[1:4]\n"
      ],
      "execution_count": null,
      "outputs": [
        {
          "output_type": "execute_result",
          "data": {
            "application/vnd.google.colaboratory.intrinsic+json": {
              "type": "string"
            },
            "text/plain": [
              "'234'"
            ]
          },
          "metadata": {},
          "execution_count": 16
        }
      ]
    },
    {
      "cell_type": "code",
      "metadata": {
        "colab": {
          "base_uri": "https://localhost:8080/"
        },
        "id": "L_53HitrRvHa",
        "outputId": "ab37552b-e357-4f25-ea59-5f6ab7bcffae"
      },
      "source": [
        "print(z)"
      ],
      "execution_count": null,
      "outputs": [
        {
          "output_type": "stream",
          "name": "stdout",
          "text": [
            "[1, 2, 'a', 'b']\n"
          ]
        }
      ]
    },
    {
      "cell_type": "code",
      "metadata": {
        "colab": {
          "base_uri": "https://localhost:8080/"
        },
        "id": "jp5P-07lRvW9",
        "outputId": "d45d8180-08ad-4a6f-d4a2-8cbcf4d70a1d"
      },
      "source": [
        "a = [1,2,3]\n",
        "b = [4,5,6]\n",
        "a + b"
      ],
      "execution_count": null,
      "outputs": [
        {
          "output_type": "execute_result",
          "data": {
            "text/plain": [
              "[1, 2, 3, 4, 5, 6]"
            ]
          },
          "metadata": {},
          "execution_count": 18
        }
      ]
    },
    {
      "cell_type": "code",
      "metadata": {
        "colab": {
          "base_uri": "https://localhost:8080/"
        },
        "id": "186lFkiyRvxP",
        "outputId": "caf03118-176f-4866-9706-cc4370394582"
      },
      "source": [
        "a = [1, 2, 3]\n",
        "a * 3"
      ],
      "execution_count": null,
      "outputs": [
        {
          "output_type": "execute_result",
          "data": {
            "text/plain": [
              "[1, 2, 3, 1, 2, 3, 1, 2, 3]"
            ]
          },
          "metadata": {},
          "execution_count": 19
        }
      ]
    },
    {
      "cell_type": "code",
      "metadata": {
        "colab": {
          "base_uri": "https://localhost:8080/"
        },
        "id": "JwqVMbUORv91",
        "outputId": "6de8c834-d410-4089-9a37-f7e6acf8fa4d"
      },
      "source": [
        "# 길이(갯수) 구하기\n",
        "a = [1, 2, 3]\n",
        "len(a)"
      ],
      "execution_count": null,
      "outputs": [
        {
          "output_type": "execute_result",
          "data": {
            "text/plain": [
              "3"
            ]
          },
          "metadata": {},
          "execution_count": 21
        }
      ]
    },
    {
      "cell_type": "code",
      "metadata": {
        "colab": {
          "base_uri": "https://localhost:8080/"
        },
        "id": "O2bZ0fhKRwJ1",
        "outputId": "e5318225-03e7-41b5-fcd9-351ba0ee94ba"
      },
      "source": [
        "# mutable\n",
        "a = [1, 2, 3]\n",
        "a[2] = 4    # 리스트의 수정\n",
        "a\n",
        "del a[1]    # 리스트의 삭제\n",
        "a"
      ],
      "execution_count": null,
      "outputs": [
        {
          "output_type": "execute_result",
          "data": {
            "text/plain": [
              "[1, 4]"
            ]
          },
          "metadata": {},
          "execution_count": 25
        }
      ]
    },
    {
      "cell_type": "code",
      "metadata": {
        "colab": {
          "base_uri": "https://localhost:8080/"
        },
        "id": "e7GLWzkpXJM9",
        "outputId": "8bccd438-6a96-4377-c335-0e3c2abeffad"
      },
      "source": [
        "#append\n",
        "a = [1,2,3]\n",
        "a.append(4)\n",
        "a\n",
        "a.append([5,6])\n",
        "a"
      ],
      "execution_count": null,
      "outputs": [
        {
          "output_type": "execute_result",
          "data": {
            "text/plain": [
              "[1, 2, 3, 4, [5, 6]]"
            ]
          },
          "metadata": {},
          "execution_count": 28
        }
      ]
    },
    {
      "cell_type": "code",
      "metadata": {
        "colab": {
          "base_uri": "https://localhost:8080/"
        },
        "id": "fY4dkDciYUjl",
        "outputId": "eff1671b-6337-4ad5-f4b6-1b2d63c5e8cc"
      },
      "source": [
        "# sort\n",
        "a = [1,7,3,5]\n",
        "a.sort()\n",
        "a\n",
        "a = ['a', 'f','b', 'c']\n",
        "a.sort()\n",
        "a"
      ],
      "execution_count": null,
      "outputs": [
        {
          "output_type": "execute_result",
          "data": {
            "text/plain": [
              "['a', 'b', 'c', 'f']"
            ]
          },
          "metadata": {},
          "execution_count": 30
        }
      ]
    },
    {
      "cell_type": "code",
      "metadata": {
        "colab": {
          "base_uri": "https://localhost:8080/"
        },
        "id": "rP_2_XkRZAdl",
        "outputId": "5ce6839c-9369-4e91-dc26-120dc0ef2b46"
      },
      "source": [
        "# reverse\n",
        "a = ['a', 'f','b', 'c']\n",
        "a.sort()\n",
        "a.reverse()\n",
        "a"
      ],
      "execution_count": null,
      "outputs": [
        {
          "output_type": "execute_result",
          "data": {
            "text/plain": [
              "['f', 'c', 'b', 'a']"
            ]
          },
          "metadata": {},
          "execution_count": 31
        }
      ]
    },
    {
      "cell_type": "code",
      "metadata": {
        "colab": {
          "base_uri": "https://localhost:8080/"
        },
        "id": "hJoUET3KZczL",
        "outputId": "2bddea87-3e9c-480e-f8be-2cfb8a7d2535"
      },
      "source": [
        "# index\n",
        "a = [1,3,4]\n",
        "a.index(3)"
      ],
      "execution_count": null,
      "outputs": [
        {
          "output_type": "execute_result",
          "data": {
            "text/plain": [
              "1"
            ]
          },
          "metadata": {},
          "execution_count": 32
        }
      ]
    },
    {
      "cell_type": "code",
      "metadata": {
        "colab": {
          "base_uri": "https://localhost:8080/"
        },
        "id": "OqfuSTbQZnfo",
        "outputId": "7a7dddbd-9e92-4e06-da39-7ae9b34c11a9"
      },
      "source": [
        "# insert \n",
        "a = [1,2,3]\n",
        "a.insert(0,4)\n",
        "a"
      ],
      "execution_count": null,
      "outputs": [
        {
          "output_type": "execute_result",
          "data": {
            "text/plain": [
              "[4, 1, 2, 3]"
            ]
          },
          "metadata": {},
          "execution_count": 33
        }
      ]
    },
    {
      "cell_type": "code",
      "metadata": {
        "colab": {
          "base_uri": "https://localhost:8080/"
        },
        "id": "KvgqIXA-Z-NE",
        "outputId": "793e19c1-7180-465b-a3c8-6a6e5d8dbdaa"
      },
      "source": [
        "# remove\n",
        "a = [1,3,4,1,2,4]\n",
        "a.remove(4)\n",
        "a"
      ],
      "execution_count": null,
      "outputs": [
        {
          "output_type": "execute_result",
          "data": {
            "text/plain": [
              "[1, 3, 1, 2, 4]"
            ]
          },
          "metadata": {},
          "execution_count": 34
        }
      ]
    },
    {
      "cell_type": "code",
      "metadata": {
        "colab": {
          "base_uri": "https://localhost:8080/"
        },
        "id": "Tg99OtWqaL6x",
        "outputId": "7d52c4c3-68c0-474e-806f-41c72a6c29f7"
      },
      "source": [
        "# pop\n",
        "a = [1,2,3]\n",
        "a.pop()\n",
        "a"
      ],
      "execution_count": null,
      "outputs": [
        {
          "output_type": "execute_result",
          "data": {
            "text/plain": [
              "[1, 2]"
            ]
          },
          "metadata": {},
          "execution_count": 35
        }
      ]
    },
    {
      "cell_type": "code",
      "metadata": {
        "colab": {
          "base_uri": "https://localhost:8080/"
        },
        "id": "kfjFSVd1agjY",
        "outputId": "01aaa0cf-b832-4adc-d138-09c99e238675"
      },
      "source": [
        "# count\n",
        "a = [1, 2, 3 ,1]\n",
        "a.count(1)\n"
      ],
      "execution_count": null,
      "outputs": [
        {
          "output_type": "execute_result",
          "data": {
            "text/plain": [
              "2"
            ]
          },
          "metadata": {},
          "execution_count": 36
        }
      ]
    },
    {
      "cell_type": "code",
      "metadata": {
        "colab": {
          "base_uri": "https://localhost:8080/"
        },
        "id": "6bQ6qtusaqy9",
        "outputId": "e149a24a-5562-4126-c455-d71e634756cb"
      },
      "source": [
        "# extend\n",
        "a = [1,2,3]\n",
        "a.extend([4,5])\n",
        "a"
      ],
      "execution_count": null,
      "outputs": [
        {
          "output_type": "execute_result",
          "data": {
            "text/plain": [
              "[1, 2, 3, 4, 5]"
            ]
          },
          "metadata": {},
          "execution_count": 37
        }
      ]
    },
    {
      "cell_type": "code",
      "metadata": {
        "id": "VYp5bReMa05W"
      },
      "source": [
        "# 튜플\n",
        "t1 = ()\n",
        "t1 =(1,)\n",
        "t1 = 1, 2, 3, 4\n",
        "t1 = 1,   # 괄호 생략이 가능하지만 하나의 원소만 사용할 경우에는 \n",
        "# 숫자형과 혼란이 올 수 있으므로 하나의 원소를 사용할 경우에는 원소뒤에 ,를 사용해야함\n"
      ],
      "execution_count": null,
      "outputs": []
    },
    {
      "cell_type": "code",
      "metadata": {
        "colab": {
          "base_uri": "https://localhost:8080/"
        },
        "id": "RfzJ7dpEquKM",
        "outputId": "ff78262c-330d-492c-a251-0315c38c7286"
      },
      "source": [
        "# 튜플에서의 인덱싱\n",
        "t1 = (1,2,'a','b')\n",
        "t1[0]\n",
        "\n",
        "# 튜플에서의 슬라이싱\n",
        "t1 = (1,2,'a','b')\n",
        "t1[1:]"
      ],
      "execution_count": null,
      "outputs": [
        {
          "output_type": "execute_result",
          "data": {
            "text/plain": [
              "(2, 'a', 'b')"
            ]
          },
          "metadata": {},
          "execution_count": 39
        }
      ]
    },
    {
      "cell_type": "code",
      "metadata": {
        "colab": {
          "base_uri": "https://localhost:8080/"
        },
        "id": "fMv5ljSVquod",
        "outputId": "3c0399e5-e8e0-43c9-e59f-d60f3a9c8a1a"
      },
      "source": [
        "t1 = (1,2,'a','b')\n",
        "t2 = (3, 4)\n",
        "t1 + t2"
      ],
      "execution_count": null,
      "outputs": [
        {
          "output_type": "execute_result",
          "data": {
            "text/plain": [
              "(1, 2, 'a', 'b', 3, 4)"
            ]
          },
          "metadata": {},
          "execution_count": 40
        }
      ]
    },
    {
      "cell_type": "code",
      "metadata": {
        "colab": {
          "base_uri": "https://localhost:8080/"
        },
        "id": "NXV4JUcoqvBb",
        "outputId": "2ede558a-bed8-4a96-feb7-18566281acb3"
      },
      "source": [
        "t2 * 3"
      ],
      "execution_count": null,
      "outputs": [
        {
          "output_type": "execute_result",
          "data": {
            "text/plain": [
              "(3, 4, 3, 4, 3, 4)"
            ]
          },
          "metadata": {},
          "execution_count": 41
        }
      ]
    },
    {
      "cell_type": "code",
      "metadata": {
        "colab": {
          "base_uri": "https://localhost:8080/"
        },
        "id": "15Pdgzc4qvOQ",
        "outputId": "fd3f565c-fb3d-44a3-bf36-70c41fc2db38"
      },
      "source": [
        "len(t1)"
      ],
      "execution_count": null,
      "outputs": [
        {
          "output_type": "execute_result",
          "data": {
            "text/plain": [
              "4"
            ]
          },
          "metadata": {},
          "execution_count": 42
        }
      ]
    },
    {
      "cell_type": "code",
      "metadata": {
        "colab": {
          "base_uri": "https://localhost:8080/"
        },
        "id": "NJTCuZInqva2",
        "outputId": "c2e86504-9b1d-4101-ff36-a2b808948e23"
      },
      "source": [
        "# 딕셔너리\n",
        "dic = {'name' : 'pey', 'phone' : '01012345678', 'birth' : '1015'}\n",
        "print(dic)"
      ],
      "execution_count": null,
      "outputs": [
        {
          "output_type": "stream",
          "name": "stdout",
          "text": [
            "{'name': 'pey', 'phone': '01012345678', 'birth': '1015'}\n"
          ]
        }
      ]
    },
    {
      "cell_type": "code",
      "metadata": {
        "colab": {
          "base_uri": "https://localhost:8080/"
        },
        "id": "ujLdatETvvCe",
        "outputId": "2bd19570-21de-4695-a709-a9a40fd39890"
      },
      "source": [
        "a = {'b':[1,2,3]}\n",
        "a"
      ],
      "execution_count": null,
      "outputs": [
        {
          "output_type": "execute_result",
          "data": {
            "text/plain": [
              "{'b': [1, 2, 3]}"
            ]
          },
          "metadata": {},
          "execution_count": 105
        }
      ]
    },
    {
      "cell_type": "code",
      "metadata": {
        "colab": {
          "base_uri": "https://localhost:8080/"
        },
        "id": "gKVsvEzKvved",
        "outputId": "a42b4648-cef2-4a3d-fd3b-c265fba16675"
      },
      "source": [
        "# 딕셔너리 새로운 key, value 추가\n",
        "a[5] = 'b'\n",
        "a"
      ],
      "execution_count": null,
      "outputs": [
        {
          "output_type": "execute_result",
          "data": {
            "text/plain": [
              "{5: 'b', 'b': [1, 2, 3]}"
            ]
          },
          "metadata": {},
          "execution_count": 106
        }
      ]
    },
    {
      "cell_type": "code",
      "metadata": {
        "colab": {
          "base_uri": "https://localhost:8080/"
        },
        "id": "HNBGpca0vvqk",
        "outputId": "edbe0e85-de6f-4a67-c5b5-e7806de61f7b"
      },
      "source": [
        "a['name'] = 'pey'\n",
        "a"
      ],
      "execution_count": null,
      "outputs": [
        {
          "output_type": "execute_result",
          "data": {
            "text/plain": [
              "{5: 'b', 'b': [1, 2, 3], 'name': 'pey'}"
            ]
          },
          "metadata": {},
          "execution_count": 107
        }
      ]
    },
    {
      "cell_type": "code",
      "metadata": {
        "colab": {
          "base_uri": "https://localhost:8080/"
        },
        "id": "4WpzPadBqvz9",
        "outputId": "a0380d0f-9dfe-4f40-8d2d-8cb5b6f5974a"
      },
      "source": [
        "# 딕셔너리 요소 삭제\n",
        "del a[5]\n",
        "a"
      ],
      "execution_count": null,
      "outputs": [
        {
          "output_type": "execute_result",
          "data": {
            "text/plain": [
              "{'b': [1, 2, 3], 'name': 'pey'}"
            ]
          },
          "metadata": {},
          "execution_count": 108
        }
      ]
    },
    {
      "cell_type": "code",
      "metadata": {
        "colab": {
          "base_uri": "https://localhost:8080/"
        },
        "id": "6LuOlatTqv_z",
        "outputId": "4b4b8a92-a7b7-4df3-9dc5-30c64ef8df4c"
      },
      "source": [
        "# 딕셔너리로 key값을 이용해서 value값 가져오기\n",
        "grade = {'pey' : 10, 'juliet' : 9}\n",
        "grade['pey']"
      ],
      "execution_count": null,
      "outputs": [
        {
          "output_type": "execute_result",
          "data": {
            "text/plain": [
              "10"
            ]
          },
          "metadata": {},
          "execution_count": 54
        }
      ]
    },
    {
      "cell_type": "code",
      "metadata": {
        "colab": {
          "base_uri": "https://localhost:8080/"
        },
        "id": "BMHY_Xley388",
        "outputId": "ff3cdf48-b39c-4e89-9c99-20402f93f3ad"
      },
      "source": [
        "a = {1 : 'a', 1 : 'b'}\n",
        "a"
      ],
      "execution_count": null,
      "outputs": [
        {
          "output_type": "execute_result",
          "data": {
            "text/plain": [
              "{1: 'b'}"
            ]
          },
          "metadata": {},
          "execution_count": 56
        }
      ]
    },
    {
      "cell_type": "code",
      "metadata": {
        "colab": {
          "base_uri": "https://localhost:8080/"
        },
        "id": "ak2kbLUvy4Go",
        "outputId": "33722ed0-af0d-41e9-d705-c0d368a59c62"
      },
      "source": [
        "# 리스트는 요소 값이 변할 수 있기 때문에 tuple만 key 값으로 쓸 수 있음\n",
        "a = {(1,2) : 'hi'}\n",
        "a"
      ],
      "execution_count": null,
      "outputs": [
        {
          "output_type": "execute_result",
          "data": {
            "text/plain": [
              "{(1, 2): 'hi'}"
            ]
          },
          "metadata": {},
          "execution_count": 59
        }
      ]
    },
    {
      "cell_type": "code",
      "metadata": {
        "colab": {
          "base_uri": "https://localhost:8080/"
        },
        "id": "0WO3H-tPy4Ko",
        "outputId": "ec9448ac-a28f-4a03-f465-8ecdaa6e543d"
      },
      "source": [
        "# 딕셔너리에서 많이 사용 되는 함수들\n",
        "# keys\n",
        "\n",
        "a = {1:'a', 2 : 'b', 3: 'c'}\n",
        "a.keys()"
      ],
      "execution_count": null,
      "outputs": [
        {
          "output_type": "execute_result",
          "data": {
            "text/plain": [
              "dict_keys([1, 2, 3])"
            ]
          },
          "metadata": {},
          "execution_count": 61
        }
      ]
    },
    {
      "cell_type": "code",
      "metadata": {
        "colab": {
          "base_uri": "https://localhost:8080/"
        },
        "id": "7lVMz9DZy4OH",
        "outputId": "3d432de1-3a6d-465e-daeb-ddec0e0c9d3a"
      },
      "source": [
        "# values\n",
        "a = {1:'a', 2 : 'b', 3: 'c'}\n",
        "a.values()"
      ],
      "execution_count": null,
      "outputs": [
        {
          "output_type": "execute_result",
          "data": {
            "text/plain": [
              "dict_values(['a', 'b', 'c'])"
            ]
          },
          "metadata": {},
          "execution_count": 64
        }
      ]
    },
    {
      "cell_type": "code",
      "metadata": {
        "colab": {
          "base_uri": "https://localhost:8080/"
        },
        "id": "JT9PK5j6y4Rc",
        "outputId": "edff5e30-eba9-4383-fd8f-83caed3fac1f"
      },
      "source": [
        "# items\n",
        "a = {1:'a', 2 : 'b', 3: 'c'}\n",
        "a.items()"
      ],
      "execution_count": null,
      "outputs": [
        {
          "output_type": "execute_result",
          "data": {
            "text/plain": [
              "dict_items([(1, 'a'), (2, 'b'), (3, 'c')])"
            ]
          },
          "metadata": {},
          "execution_count": 65
        }
      ]
    },
    {
      "cell_type": "code",
      "metadata": {
        "colab": {
          "base_uri": "https://localhost:8080/"
        },
        "id": "c_wx_mciy4U2",
        "outputId": "c88697b4-8b9b-4d49-cd52-acee9ee41029"
      },
      "source": [
        "# clear\n",
        "a = {1:'a', 2 : 'b', 3: 'c'}\n",
        "a.clear()\n",
        "a"
      ],
      "execution_count": null,
      "outputs": [
        {
          "output_type": "execute_result",
          "data": {
            "text/plain": [
              "{}"
            ]
          },
          "metadata": {},
          "execution_count": 67
        }
      ]
    },
    {
      "cell_type": "code",
      "metadata": {
        "colab": {
          "base_uri": "https://localhost:8080/"
        },
        "id": "CjJ7UqFvy4X-",
        "outputId": "2e08e405-de64-4220-e6c7-a84cb04569a9"
      },
      "source": [
        "# in\n",
        "a = {1:'a', 2 : 'b', 3: 'c'}\n",
        "1 in a # true\n",
        "4 in a"
      ],
      "execution_count": null,
      "outputs": [
        {
          "output_type": "execute_result",
          "data": {
            "text/plain": [
              "False"
            ]
          },
          "metadata": {},
          "execution_count": 69
        }
      ]
    },
    {
      "cell_type": "code",
      "metadata": {
        "colab": {
          "base_uri": "https://localhost:8080/"
        },
        "id": "eKGN8ium5lPk",
        "outputId": "576a7313-e08c-4f88-cace-ce72a24029a2"
      },
      "source": [
        "# Set\n",
        "s1 = set([1,2,3])\n",
        "s1"
      ],
      "execution_count": null,
      "outputs": [
        {
          "output_type": "execute_result",
          "data": {
            "text/plain": [
              "{1, 2, 3}"
            ]
          },
          "metadata": {},
          "execution_count": 70
        }
      ]
    },
    {
      "cell_type": "code",
      "metadata": {
        "colab": {
          "base_uri": "https://localhost:8080/"
        },
        "id": "frK-CLr-5lYD",
        "outputId": "043a48d3-4962-4e7d-be85-29b6882a3370"
      },
      "source": [
        "s2 = set(\"Hello\")\n",
        "s2"
      ],
      "execution_count": null,
      "outputs": [
        {
          "output_type": "execute_result",
          "data": {
            "text/plain": [
              "{'H', 'e', 'l', 'o'}"
            ]
          },
          "metadata": {},
          "execution_count": 74
        }
      ]
    },
    {
      "cell_type": "code",
      "metadata": {
        "colab": {
          "base_uri": "https://localhost:8080/"
        },
        "id": "YMx2hJVz5lav",
        "outputId": "af2f2321-b4c8-49f9-dba9-6d2898abcd78"
      },
      "source": [
        "l1 = list(s1)\n",
        "l1\n",
        "type(l1)"
      ],
      "execution_count": null,
      "outputs": [
        {
          "output_type": "execute_result",
          "data": {
            "text/plain": [
              "list"
            ]
          },
          "metadata": {},
          "execution_count": 78
        }
      ]
    },
    {
      "cell_type": "code",
      "metadata": {
        "colab": {
          "base_uri": "https://localhost:8080/"
        },
        "id": "YJqXtVkf5ldl",
        "outputId": "246999e6-dbd2-4b97-e39e-3d4e681d96c5"
      },
      "source": [
        "# 교집합 합집합 차집합\n",
        "s1 = set([1,2,3,4,5,6])\n",
        "s2 = set([4,5,6,7,8,9])\n",
        "\n",
        "# 교집합\n",
        "s1 & s2"
      ],
      "execution_count": null,
      "outputs": [
        {
          "output_type": "execute_result",
          "data": {
            "text/plain": [
              "{4, 5, 6}"
            ]
          },
          "metadata": {},
          "execution_count": 79
        }
      ]
    },
    {
      "cell_type": "code",
      "metadata": {
        "colab": {
          "base_uri": "https://localhost:8080/"
        },
        "id": "yHxZoorI5lgI",
        "outputId": "f30cffee-2fb0-45a6-d592-40beaadcc16b"
      },
      "source": [
        "s1.intersection(s2)"
      ],
      "execution_count": null,
      "outputs": [
        {
          "output_type": "execute_result",
          "data": {
            "text/plain": [
              "{4, 5, 6}"
            ]
          },
          "metadata": {},
          "execution_count": 80
        }
      ]
    },
    {
      "cell_type": "code",
      "metadata": {
        "colab": {
          "base_uri": "https://localhost:8080/"
        },
        "id": "ktdUMuKc5ljE",
        "outputId": "f6e0c6d2-61d4-4b68-e28f-c190e1cd225c"
      },
      "source": [
        "# 합집합\n",
        "s1 | s2"
      ],
      "execution_count": null,
      "outputs": [
        {
          "output_type": "execute_result",
          "data": {
            "text/plain": [
              "{1, 2, 3, 4, 5, 6, 7, 8, 9}"
            ]
          },
          "metadata": {},
          "execution_count": 81
        }
      ]
    },
    {
      "cell_type": "code",
      "metadata": {
        "colab": {
          "base_uri": "https://localhost:8080/"
        },
        "id": "a6lQJF_E5lla",
        "outputId": "b96ce198-071b-45a4-ce50-0e9ffc812b94"
      },
      "source": [
        "s1.union(s2)"
      ],
      "execution_count": null,
      "outputs": [
        {
          "output_type": "execute_result",
          "data": {
            "text/plain": [
              "{1, 2, 3, 4, 5, 6, 7, 8, 9}"
            ]
          },
          "metadata": {},
          "execution_count": 82
        }
      ]
    },
    {
      "cell_type": "code",
      "metadata": {
        "colab": {
          "base_uri": "https://localhost:8080/"
        },
        "id": "QaN-C7K45loC",
        "outputId": "5fab38a7-5459-4f73-e789-11f79795b7f8"
      },
      "source": [
        "# 차집합\n",
        "s1-s2"
      ],
      "execution_count": null,
      "outputs": [
        {
          "output_type": "execute_result",
          "data": {
            "text/plain": [
              "{1, 2, 3}"
            ]
          },
          "metadata": {},
          "execution_count": 83
        }
      ]
    },
    {
      "cell_type": "code",
      "metadata": {
        "colab": {
          "base_uri": "https://localhost:8080/"
        },
        "id": "J4Q2wAsl5lqu",
        "outputId": "de5b1b5b-65c4-433b-ae8a-9e473a9c45fe"
      },
      "source": [
        "s2-s1"
      ],
      "execution_count": null,
      "outputs": [
        {
          "output_type": "execute_result",
          "data": {
            "text/plain": [
              "{7, 8, 9}"
            ]
          },
          "metadata": {},
          "execution_count": 84
        }
      ]
    },
    {
      "cell_type": "code",
      "metadata": {
        "colab": {
          "base_uri": "https://localhost:8080/"
        },
        "id": "CDJUaOka5ltk",
        "outputId": "2bdd6a84-3612-43ce-95d0-d247db78425b"
      },
      "source": [
        "# add\n",
        "s1 = set([1,2,3])\n",
        "s1.add(4)\n",
        "s1"
      ],
      "execution_count": null,
      "outputs": [
        {
          "output_type": "execute_result",
          "data": {
            "text/plain": [
              "{1, 2, 3, 4}"
            ]
          },
          "metadata": {},
          "execution_count": 86
        }
      ]
    },
    {
      "cell_type": "code",
      "metadata": {
        "colab": {
          "base_uri": "https://localhost:8080/"
        },
        "id": "WWyV4J305lxT",
        "outputId": "cf104f60-82bd-41b9-dbc5-7a2119957a5d"
      },
      "source": [
        "# update\n",
        "s1 = set([1,2,3])\n",
        "s1.update([4,5,6])\n",
        "s1"
      ],
      "execution_count": null,
      "outputs": [
        {
          "output_type": "execute_result",
          "data": {
            "text/plain": [
              "{1, 2, 3, 4, 5, 6}"
            ]
          },
          "metadata": {},
          "execution_count": 88
        }
      ]
    },
    {
      "cell_type": "code",
      "metadata": {
        "colab": {
          "base_uri": "https://localhost:8080/"
        },
        "id": "AZRIhvWay4bZ",
        "outputId": "0fdbab65-cb25-4d6e-9b8f-9e9ec05713bb"
      },
      "source": [
        "# remove 특정값 제거\n",
        "s1 = set([1,2,3])\n",
        "s1.remove(2)\n",
        "s1"
      ],
      "execution_count": null,
      "outputs": [
        {
          "output_type": "execute_result",
          "data": {
            "text/plain": [
              "{1, 3}"
            ]
          },
          "metadata": {},
          "execution_count": 89
        }
      ]
    },
    {
      "cell_type": "code",
      "metadata": {
        "colab": {
          "base_uri": "https://localhost:8080/"
        },
        "id": "-oz6-q5P9u2H",
        "outputId": "38a342a6-e625-4e3b-ac96-7249828d1dcd"
      },
      "source": [
        "# bool \n",
        "a = True\n",
        "b = False\n",
        "type(a)\n",
        "type(b)"
      ],
      "execution_count": null,
      "outputs": [
        {
          "output_type": "execute_result",
          "data": {
            "text/plain": [
              "bool"
            ]
          },
          "metadata": {},
          "execution_count": 91
        }
      ]
    },
    {
      "cell_type": "code",
      "metadata": {
        "colab": {
          "base_uri": "https://localhost:8080/"
        },
        "id": "3NqqsrYo9vEF",
        "outputId": "614cc0f7-83b6-4311-f4c6-82e9f23e91fb"
      },
      "source": [
        "a == b"
      ],
      "execution_count": null,
      "outputs": [
        {
          "output_type": "execute_result",
          "data": {
            "text/plain": [
              "False"
            ]
          },
          "metadata": {},
          "execution_count": 92
        }
      ]
    },
    {
      "cell_type": "code",
      "metadata": {
        "colab": {
          "base_uri": "https://localhost:8080/"
        },
        "id": "VT17zv739vR1",
        "outputId": "8c1e877a-f8f9-45ea-ff0b-55661960da37"
      },
      "source": [
        "a != b"
      ],
      "execution_count": null,
      "outputs": [
        {
          "output_type": "execute_result",
          "data": {
            "text/plain": [
              "True"
            ]
          },
          "metadata": {},
          "execution_count": 93
        }
      ]
    },
    {
      "cell_type": "code",
      "metadata": {
        "colab": {
          "base_uri": "https://localhost:8080/"
        },
        "id": "ycGlP1en9veL",
        "outputId": "71b83728-9e6c-418d-e583-6d00038d99d5"
      },
      "source": [
        "2 > 1"
      ],
      "execution_count": null,
      "outputs": [
        {
          "output_type": "execute_result",
          "data": {
            "text/plain": [
              "True"
            ]
          },
          "metadata": {},
          "execution_count": 94
        }
      ]
    },
    {
      "cell_type": "code",
      "metadata": {
        "colab": {
          "base_uri": "https://localhost:8080/"
        },
        "id": "Kn46oGPe9vpd",
        "outputId": "64fce488-002a-4223-ec3b-0cd089a82515"
      },
      "source": [
        "a = [1,2,3,4]\n",
        "while a:    \n",
        "  print(a.pop())"
      ],
      "execution_count": null,
      "outputs": [
        {
          "output_type": "stream",
          "name": "stdout",
          "text": [
            "4\n",
            "3\n",
            "2\n",
            "1\n"
          ]
        }
      ]
    },
    {
      "cell_type": "code",
      "metadata": {
        "colab": {
          "base_uri": "https://localhost:8080/"
        },
        "id": "1szCPfCP9v0J",
        "outputId": "e1aabdf8-d50d-49c5-8e0e-a1bf719c3764"
      },
      "source": [
        "if [] :\n",
        "  print('참')\n",
        "else :\n",
        "  print('거짓')"
      ],
      "execution_count": null,
      "outputs": [
        {
          "output_type": "stream",
          "name": "stdout",
          "text": [
            "거짓\n"
          ]
        }
      ]
    },
    {
      "cell_type": "code",
      "metadata": {
        "colab": {
          "base_uri": "https://localhost:8080/"
        },
        "id": "lNIf7MVs9v-E",
        "outputId": "6db211ec-4c06-4c73-fc60-190020a51ef6"
      },
      "source": [
        "# 변수\n",
        "a = 1\n",
        "b = 'python'\n",
        "\n",
        "id(a)"
      ],
      "execution_count": null,
      "outputs": [
        {
          "output_type": "execute_result",
          "data": {
            "text/plain": [
              "94635956783616"
            ]
          },
          "metadata": {},
          "execution_count": 97
        }
      ]
    },
    {
      "cell_type": "code",
      "metadata": {
        "colab": {
          "base_uri": "https://localhost:8080/"
        },
        "id": "lpgLf5bh9wHt",
        "outputId": "c59fd01a-ce23-4f96-94ac-c105dbfa2c35"
      },
      "source": [
        "id(b)"
      ],
      "execution_count": null,
      "outputs": [
        {
          "output_type": "execute_result",
          "data": {
            "text/plain": [
              "139888261036080"
            ]
          },
          "metadata": {},
          "execution_count": 98
        }
      ]
    },
    {
      "cell_type": "code",
      "metadata": {
        "colab": {
          "base_uri": "https://localhost:8080/"
        },
        "id": "QPdiJgBk9wQw",
        "outputId": "763a4946-962f-4464-83b9-94b0d7d89b7c"
      },
      "source": [
        "a = [1,2,3]\n",
        "b = a\n",
        "b"
      ],
      "execution_count": null,
      "outputs": [
        {
          "output_type": "execute_result",
          "data": {
            "text/plain": [
              "[1, 2, 3]"
            ]
          },
          "metadata": {},
          "execution_count": 111
        }
      ]
    },
    {
      "cell_type": "code",
      "metadata": {
        "colab": {
          "base_uri": "https://localhost:8080/"
        },
        "id": "F7YNtBcV9wXf",
        "outputId": "f3ecd192-3eee-436e-9bf5-479bb48cb8c4"
      },
      "source": [
        "id(a)"
      ],
      "execution_count": null,
      "outputs": [
        {
          "output_type": "execute_result",
          "data": {
            "text/plain": [
              "139887559126624"
            ]
          },
          "metadata": {},
          "execution_count": 112
        }
      ]
    },
    {
      "cell_type": "code",
      "metadata": {
        "colab": {
          "base_uri": "https://localhost:8080/"
        },
        "id": "NRXbu-gk9weH",
        "outputId": "f359c076-f5af-4286-b476-418fbaafe672"
      },
      "source": [
        "id(b)\n",
        "# a와 b 모두 같은 주소를 가리키고 있음\n",
        "# 같은 것을 집어넣는것이 아니다!\n"
      ],
      "execution_count": null,
      "outputs": [
        {
          "output_type": "execute_result",
          "data": {
            "text/plain": [
              "139887559126624"
            ]
          },
          "metadata": {},
          "execution_count": 113
        }
      ]
    },
    {
      "cell_type": "code",
      "metadata": {
        "colab": {
          "base_uri": "https://localhost:8080/"
        },
        "id": "XJZ1FGXn9wkb",
        "outputId": "efb0239f-0513-474a-ede0-7ff69b3f0158"
      },
      "source": [
        "a[1] = 4\n",
        "a"
      ],
      "execution_count": null,
      "outputs": [
        {
          "output_type": "execute_result",
          "data": {
            "text/plain": [
              "[1, 4, 3]"
            ]
          },
          "metadata": {},
          "execution_count": 114
        }
      ]
    },
    {
      "cell_type": "code",
      "metadata": {
        "colab": {
          "base_uri": "https://localhost:8080/"
        },
        "id": "IHIFJ4Y-9wqT",
        "outputId": "ee85a6fb-abb1-46d4-d7f3-0eef8399e273"
      },
      "source": [
        "b\n",
        "# a만 바꿨을 뿐인데 b의 요소 또한 바뀌어 버렸다!"
      ],
      "execution_count": null,
      "outputs": [
        {
          "output_type": "execute_result",
          "data": {
            "text/plain": [
              "[1, 4, 3]"
            ]
          },
          "metadata": {},
          "execution_count": 116
        }
      ]
    },
    {
      "cell_type": "code",
      "metadata": {
        "colab": {
          "base_uri": "https://localhost:8080/"
        },
        "id": "dxwZPbGL9wwI",
        "outputId": "7b6b0dd9-8038-4983-d2fb-9458b4b96af6"
      },
      "source": [
        "# [:]\n",
        "a = [1,2,3]\n",
        "b = a[:]    # b는 a의 값을 복사해오되, a가 요소의 값을 바꿔도 변하지 않음\n",
        "a[1] = 4\n",
        "a"
      ],
      "execution_count": null,
      "outputs": [
        {
          "output_type": "execute_result",
          "data": {
            "text/plain": [
              "[1, 4, 3]"
            ]
          },
          "metadata": {},
          "execution_count": 121
        }
      ]
    },
    {
      "cell_type": "code",
      "metadata": {
        "colab": {
          "base_uri": "https://localhost:8080/"
        },
        "id": "H6OqFkQG9w2H",
        "outputId": "20402145-b62f-40d1-a6e2-e2c79f0fd35a"
      },
      "source": [
        "b"
      ],
      "execution_count": null,
      "outputs": [
        {
          "output_type": "execute_result",
          "data": {
            "text/plain": [
              "[1, 2, 3]"
            ]
          },
          "metadata": {},
          "execution_count": 122
        }
      ]
    },
    {
      "cell_type": "code",
      "metadata": {
        "colab": {
          "base_uri": "https://localhost:8080/"
        },
        "id": "MNwOTi4k9w8L",
        "outputId": "c5854506-0245-4f9b-b610-cdac942f3be9"
      },
      "source": [
        "id(a)"
      ],
      "execution_count": null,
      "outputs": [
        {
          "output_type": "execute_result",
          "data": {
            "text/plain": [
              "139887558381072"
            ]
          },
          "metadata": {},
          "execution_count": 123
        }
      ]
    },
    {
      "cell_type": "code",
      "metadata": {
        "colab": {
          "base_uri": "https://localhost:8080/"
        },
        "id": "ePmiurjMHR4G",
        "outputId": "c83f9258-e6c7-43fb-83e4-1ee359be257b"
      },
      "source": [
        "id(b)"
      ],
      "execution_count": null,
      "outputs": [
        {
          "output_type": "execute_result",
          "data": {
            "text/plain": [
              "139887558378112"
            ]
          },
          "metadata": {},
          "execution_count": 124
        }
      ]
    },
    {
      "cell_type": "code",
      "metadata": {
        "colab": {
          "base_uri": "https://localhost:8080/"
        },
        "id": "9Pv-JVZwHSlB",
        "outputId": "c7a178a9-65ea-4517-b0af-e87255b87aec"
      },
      "source": [
        "from copy import copy\n",
        "a = [1,2,3]\n",
        "b = copy(a)\n",
        "b is a"
      ],
      "execution_count": null,
      "outputs": [
        {
          "output_type": "execute_result",
          "data": {
            "text/plain": [
              "False"
            ]
          },
          "metadata": {},
          "execution_count": 125
        }
      ]
    },
    {
      "cell_type": "code",
      "metadata": {
        "colab": {
          "base_uri": "https://localhost:8080/"
        },
        "id": "WxUMzIptHWNe",
        "outputId": "eeefb664-010d-40f8-be43-78e89c945694"
      },
      "source": [
        "id(a)"
      ],
      "execution_count": null,
      "outputs": [
        {
          "output_type": "execute_result",
          "data": {
            "text/plain": [
              "139887558189616"
            ]
          },
          "metadata": {},
          "execution_count": 126
        }
      ]
    },
    {
      "cell_type": "code",
      "metadata": {
        "colab": {
          "base_uri": "https://localhost:8080/"
        },
        "id": "vbJMGeoBHWP0",
        "outputId": "6de54279-1175-4625-a3f6-a8e0177cca64"
      },
      "source": [
        "id(b)"
      ],
      "execution_count": null,
      "outputs": [
        {
          "output_type": "execute_result",
          "data": {
            "text/plain": [
              "139887558105760"
            ]
          },
          "metadata": {},
          "execution_count": 127
        }
      ]
    },
    {
      "cell_type": "code",
      "metadata": {
        "colab": {
          "base_uri": "https://localhost:8080/",
          "height": 35
        },
        "id": "xHtIVjxOHWWP",
        "outputId": "1bdba40e-8c7c-4b4e-d878-dbab73bf969c"
      },
      "source": [
        "a, b = ('python','great')\n",
        "a"
      ],
      "execution_count": null,
      "outputs": [
        {
          "output_type": "execute_result",
          "data": {
            "application/vnd.google.colaboratory.intrinsic+json": {
              "type": "string"
            },
            "text/plain": [
              "'python'"
            ]
          },
          "metadata": {},
          "execution_count": 128
        }
      ]
    },
    {
      "cell_type": "code",
      "metadata": {
        "colab": {
          "base_uri": "https://localhost:8080/",
          "height": 35
        },
        "id": "PBO6WkMfHWeb",
        "outputId": "a7dd7dfd-a282-41d0-d3fe-9e707b03ebf8"
      },
      "source": [
        "(a,b) = 'python','great'\n",
        "b"
      ],
      "execution_count": null,
      "outputs": [
        {
          "output_type": "execute_result",
          "data": {
            "application/vnd.google.colaboratory.intrinsic+json": {
              "type": "string"
            },
            "text/plain": [
              "'great'"
            ]
          },
          "metadata": {},
          "execution_count": 132
        }
      ]
    },
    {
      "cell_type": "code",
      "metadata": {
        "colab": {
          "base_uri": "https://localhost:8080/",
          "height": 35
        },
        "id": "ssfpFgglHWkN",
        "outputId": "b5aea33b-9704-4033-e0ea-9853c515147d"
      },
      "source": [
        "a = b = 'python'\n",
        "b"
      ],
      "execution_count": null,
      "outputs": [
        {
          "output_type": "execute_result",
          "data": {
            "application/vnd.google.colaboratory.intrinsic+json": {
              "type": "string"
            },
            "text/plain": [
              "'python'"
            ]
          },
          "metadata": {},
          "execution_count": 134
        }
      ]
    },
    {
      "cell_type": "code",
      "metadata": {
        "colab": {
          "base_uri": "https://localhost:8080/"
        },
        "id": "8Cx4mRaXHWo1",
        "outputId": "a2f6a653-9990-43fe-ecfc-e2463ef6ed26"
      },
      "source": [
        "# 문제 풀기\n",
        "#정수 13이 홀수인지 짝수인지 어떻게 판결할 수 있을까?\n",
        "# % 연산자를 사용하자!!!\n",
        "a = 13\n",
        "if(a%2 == 1) :\n",
        "  print(\"a는 홀수네요!\")\n",
        "else:\n",
        "  print(\"a는 짝수네요!\")"
      ],
      "execution_count": null,
      "outputs": [
        {
          "output_type": "stream",
          "name": "stdout",
          "text": [
            "a는 홀수네요!\n"
          ]
        }
      ]
    },
    {
      "cell_type": "code",
      "metadata": {
        "colab": {
          "base_uri": "https://localhost:8080/",
          "height": 35
        },
        "id": "Z28ribiqIZr5",
        "outputId": "4e292ffc-8495-4aa9-80b5-34dc58aec2b2"
      },
      "source": [
        "# 문제 풀기\n",
        "# 홍길동 학생의 주민번호가 881120-1073834 이다.\n",
        "# 생년월일만 추출해보자!\n",
        "# 뒷자리 7개만 추출\n",
        "# 슬라이싱 이용!\n",
        "a = '881120-1073834'\n",
        "birth = a[0:6]\n",
        "birth"
      ],
      "execution_count": null,
      "outputs": [
        {
          "output_type": "execute_result",
          "data": {
            "application/vnd.google.colaboratory.intrinsic+json": {
              "type": "string"
            },
            "text/plain": [
              "'881120'"
            ]
          },
          "metadata": {},
          "execution_count": 140
        }
      ]
    },
    {
      "cell_type": "code",
      "metadata": {
        "colab": {
          "base_uri": "https://localhost:8080/",
          "height": 35
        },
        "id": "XK5KCS48IZu0",
        "outputId": "d78df242-8e16-4d9d-aeef-3544b90e3cae"
      },
      "source": [
        "# 뒷자리 출력\n",
        "screat = a[7:]\n",
        "screat"
      ],
      "execution_count": null,
      "outputs": [
        {
          "output_type": "execute_result",
          "data": {
            "application/vnd.google.colaboratory.intrinsic+json": {
              "type": "string"
            },
            "text/plain": [
              "'1073834'"
            ]
          },
          "metadata": {},
          "execution_count": 143
        }
      ]
    },
    {
      "cell_type": "code",
      "metadata": {
        "colab": {
          "base_uri": "https://localhost:8080/",
          "height": 35
        },
        "id": "vj_PGIkQIZx1",
        "outputId": "ac18e540-a385-4892-f76b-0649c8a98c52"
      },
      "source": [
        "# 성별을 나타내는 뒷자리중 맨 앞자리 출력\n",
        "gender = a[7]\n",
        "gender"
      ],
      "execution_count": null,
      "outputs": [
        {
          "output_type": "execute_result",
          "data": {
            "application/vnd.google.colaboratory.intrinsic+json": {
              "type": "string"
            },
            "text/plain": [
              "'1'"
            ]
          },
          "metadata": {},
          "execution_count": 144
        }
      ]
    },
    {
      "cell_type": "code",
      "metadata": {
        "colab": {
          "base_uri": "https://localhost:8080/",
          "height": 35
        },
        "id": "24kwmib-IZ0M",
        "outputId": "90ad0094-843c-490b-a1dd-7ccf0460d47f"
      },
      "source": [
        "# 문제 풀기\n",
        "# 한문장으로 만들자\n",
        "# join을 이용!\n",
        "a = ['life','is','too','short']\n",
        "result = \" \".join(a)    # 빈칸을 사용해서 이어라!\n",
        "result"
      ],
      "execution_count": null,
      "outputs": [
        {
          "output_type": "execute_result",
          "data": {
            "application/vnd.google.colaboratory.intrinsic+json": {
              "type": "string"
            },
            "text/plain": [
              "'life is too short'"
            ]
          },
          "metadata": {},
          "execution_count": 150
        }
      ]
    },
    {
      "cell_type": "code",
      "metadata": {
        "colab": {
          "base_uri": "https://localhost:8080/"
        },
        "id": "CPdoSWoJIZ2l",
        "outputId": "b016068b-ab50-4ee0-c2ff-8ff7acdcb85b"
      },
      "source": [
        "a = (1,2,3)\n",
        "print(id(a))\n",
        "a = a + (4,)\n",
        "print(id(a))"
      ],
      "execution_count": null,
      "outputs": [
        {
          "output_type": "stream",
          "name": "stdout",
          "text": [
            "139887559164144\n",
            "139887558091216\n"
          ]
        }
      ]
    },
    {
      "cell_type": "code",
      "metadata": {
        "colab": {
          "base_uri": "https://localhost:8080/"
        },
        "id": "9kNRAa0MNX7Q",
        "outputId": "43a59cd6-1df1-4585-83e9-a941e7d2f7d0"
      },
      "source": [
        "# if 문\n",
        "\n",
        "money = True\n",
        "\n",
        "if money :\n",
        "  print(\"택시를 타자\")\n",
        "else :\n",
        "  print(\"걸어가자\")"
      ],
      "execution_count": null,
      "outputs": [
        {
          "output_type": "stream",
          "name": "stdout",
          "text": [
            "택시를 타자\n"
          ]
        }
      ]
    },
    {
      "cell_type": "code",
      "metadata": {
        "colab": {
          "base_uri": "https://localhost:8080/"
        },
        "id": "sqZkQ2-NIZ5O",
        "outputId": "0bd75f81-995e-48ac-ed1e-67f965a9a8a6"
      },
      "source": [
        "# 비교연산자\n",
        "money = 2000\n",
        "card = False\n",
        "\n",
        "if money >= 3000 or card:\n",
        "  print(\"택시\")\n",
        "else:\n",
        "  print(\"걷기\")"
      ],
      "execution_count": null,
      "outputs": [
        {
          "output_type": "stream",
          "name": "stdout",
          "text": [
            "걷기\n"
          ]
        }
      ]
    },
    {
      "cell_type": "code",
      "metadata": {
        "colab": {
          "base_uri": "https://localhost:8080/"
        },
        "id": "eBBSf_r4IZ7n",
        "outputId": "ebe9f920-e4df-4e06-9c3a-aa8e80673819"
      },
      "source": [
        "pocket = ['paper', 'cellphone', 'money']\n",
        "if 'money' not in pocket:\n",
        "  print('택시')\n",
        "else : \n",
        "  print('걷기')"
      ],
      "execution_count": null,
      "outputs": [
        {
          "output_type": "stream",
          "name": "stdout",
          "text": [
            "걷기\n"
          ]
        }
      ]
    },
    {
      "cell_type": "code",
      "metadata": {
        "id": "ubzNG35OIZ-L"
      },
      "source": [
        "pocket = ['paper', 'cellphone']\n",
        "card = True\n",
        "if 'money' in pocket:\n",
        "  print('택시')\n",
        "elif card :\n",
        "  print('택시')\n",
        "else:\n",
        "  print('걷기')\n",
        "\n",
        "# 즉, elif는 이전 조건문이 거짓일 때 수행 됨"
      ],
      "execution_count": null,
      "outputs": []
    },
    {
      "cell_type": "code",
      "metadata": {
        "colab": {
          "base_uri": "https://localhost:8080/"
        },
        "id": "of1aH4XaIaAj",
        "outputId": "51943c8d-f019-465a-b285-83b938ff7b32"
      },
      "source": [
        "# 점수가 90점 이상이면 A, 80점 이상이면 B, 70점 이상이면 C, 60점 이상이면 D,\n",
        "# 나머지는 F\n",
        "\n",
        "score = 76\n",
        "if(score >= 90):\n",
        "  print('A학점 입니다.')\n",
        "elif(score >= 80):\n",
        "  print('B학점입니다.')\n",
        "elif(score >= 70):\n",
        "  print('C학점입니다.')\n",
        "elif(score >= 60):\n",
        "  print('D학점입니다.')\n",
        "else:\n",
        "  print('F학점입니다.')"
      ],
      "execution_count": null,
      "outputs": [
        {
          "output_type": "stream",
          "name": "stdout",
          "text": [
            "C학점입니다.\n"
          ]
        }
      ]
    },
    {
      "cell_type": "code",
      "metadata": {
        "colab": {
          "base_uri": "https://localhost:8080/"
        },
        "id": "oSlWL5aCIaC7",
        "outputId": "6493c392-6c05-400f-cfdc-f11a453876aa"
      },
      "source": [
        "# while 문\n",
        "n = 0\n",
        "while n < 10:\n",
        "  print(n)\n",
        "  n = n + 1   # n += 1 과 같음"
      ],
      "execution_count": null,
      "outputs": [
        {
          "output_type": "stream",
          "name": "stdout",
          "text": [
            "0\n",
            "1\n",
            "2\n",
            "3\n",
            "4\n",
            "5\n",
            "6\n",
            "7\n",
            "8\n",
            "9\n"
          ]
        }
      ]
    },
    {
      "cell_type": "code",
      "metadata": {
        "colab": {
          "base_uri": "https://localhost:8080/"
        },
        "id": "Rq2bBZZvIaIZ",
        "outputId": "e6d44ecb-63ec-452f-f078-651ed653f847"
      },
      "source": [
        "n = 0\n",
        "while n < 10:\n",
        "  n += 1\n",
        "  print('나무를 %d 번 찍었습니다.' %n)    # print(\"나무를 \", n ,\"번 찍었습니다.\")\n",
        "  if n == 10:\n",
        "    print('나무가 넘어가요!!!!!!!!!!!!!!!')"
      ],
      "execution_count": null,
      "outputs": [
        {
          "output_type": "stream",
          "name": "stdout",
          "text": [
            "나무를 1 번 찍었습니다.\n",
            "나무를 2 번 찍었습니다.\n",
            "나무를 3 번 찍었습니다.\n",
            "나무를 4 번 찍었습니다.\n",
            "나무를 5 번 찍었습니다.\n",
            "나무를 6 번 찍었습니다.\n",
            "나무를 7 번 찍었습니다.\n",
            "나무를 8 번 찍었습니다.\n",
            "나무를 9 번 찍었습니다.\n",
            "나무를 10 번 찍었습니다.\n",
            "나무가 넘어가요!!!!!!!!!!!!!!!\n"
          ]
        }
      ]
    },
    {
      "cell_type": "code",
      "metadata": {
        "colab": {
          "base_uri": "https://localhost:8080/"
        },
        "id": "-XqubSjKIaKl",
        "outputId": "424ad453-0673-41ca-85a0-778782a21df2"
      },
      "source": [
        "p = '''\n",
        "1. add\n",
        "2. del\n",
        "3. list\n",
        "4. quit\n",
        "\n",
        "Enter number : '''\n",
        "\n",
        "while n != 4 :\n",
        "  print(p)\n",
        "  n = int(input())  # input()으로 입력받은 모든 값은 문자다!"
      ],
      "execution_count": null,
      "outputs": [
        {
          "name": "stdout",
          "output_type": "stream",
          "text": [
            "\n",
            "1. add\n",
            "2. del\n",
            "3. list\n",
            "4. quit\n",
            "\n",
            "Enter number : \n",
            "1\n",
            "\n",
            "1. add\n",
            "2. del\n",
            "3. list\n",
            "4. quit\n",
            "\n",
            "Enter number : \n",
            "2\n",
            "\n",
            "1. add\n",
            "2. del\n",
            "3. list\n",
            "4. quit\n",
            "\n",
            "Enter number : \n",
            "4\n"
          ]
        }
      ]
    },
    {
      "cell_type": "code",
      "metadata": {
        "id": "tbTYo_IRIaNx"
      },
      "source": [
        "# 문제 풀이\n",
        "# while 문을 사용하여 1부터 1000까지의 수 중 3의 배수의 합을 구해보자\n",
        "\n",
        "n = 1\n",
        "sum = 0\n",
        "while (n % 3 == 0) :\n",
        "  sum += n\n",
        "  if(n == 1000):\n",
        "    print(sum)"
      ],
      "execution_count": null,
      "outputs": []
    },
    {
      "cell_type": "code",
      "metadata": {
        "id": "suqaXRDqIaQN"
      },
      "source": [
        ""
      ],
      "execution_count": null,
      "outputs": []
    },
    {
      "cell_type": "code",
      "metadata": {
        "id": "92MOxu0vIaTv"
      },
      "source": [
        ""
      ],
      "execution_count": null,
      "outputs": []
    },
    {
      "cell_type": "code",
      "metadata": {
        "id": "n-oY5P0dIaVs"
      },
      "source": [
        ""
      ],
      "execution_count": null,
      "outputs": []
    },
    {
      "cell_type": "code",
      "metadata": {
        "id": "O8oI7OQ_Iaab"
      },
      "source": [
        ""
      ],
      "execution_count": null,
      "outputs": []
    },
    {
      "cell_type": "code",
      "metadata": {
        "id": "A2BhdaseIadN"
      },
      "source": [
        ""
      ],
      "execution_count": null,
      "outputs": []
    },
    {
      "cell_type": "code",
      "metadata": {
        "id": "lFJ1B93NIaf7"
      },
      "source": [
        ""
      ],
      "execution_count": null,
      "outputs": []
    },
    {
      "cell_type": "code",
      "metadata": {
        "id": "YyCsFvwhIaiZ"
      },
      "source": [
        ""
      ],
      "execution_count": null,
      "outputs": []
    },
    {
      "cell_type": "code",
      "metadata": {
        "id": "hkj-UnMwHWtV"
      },
      "source": [
        ""
      ],
      "execution_count": null,
      "outputs": []
    },
    {
      "cell_type": "code",
      "metadata": {
        "id": "rT5l5xSDHWxy"
      },
      "source": [
        ""
      ],
      "execution_count": null,
      "outputs": []
    },
    {
      "cell_type": "code",
      "metadata": {
        "id": "I2vO2a9lHW14"
      },
      "source": [
        ""
      ],
      "execution_count": null,
      "outputs": []
    },
    {
      "cell_type": "code",
      "metadata": {
        "id": "kEIEsP-iHW5-"
      },
      "source": [
        ""
      ],
      "execution_count": null,
      "outputs": []
    }
  ]
}
