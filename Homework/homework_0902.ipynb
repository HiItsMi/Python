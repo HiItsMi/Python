{
  "nbformat": 4,
  "nbformat_minor": 0,
  "metadata": {
    "colab": {
      "name": "homework_0902.ipynb",
      "provenance": [],
      "collapsed_sections": [],
      "authorship_tag": "ABX9TyOy30OqX9uns1BOWtpLtbAv",
      "include_colab_link": true
    },
    "kernelspec": {
      "name": "python3",
      "display_name": "Python 3"
    },
    "language_info": {
      "name": "python"
    }
  },
  "cells": [
    {
      "cell_type": "markdown",
      "metadata": {
        "id": "view-in-github",
        "colab_type": "text"
      },
      "source": [
        "<a href=\"https://colab.research.google.com/github/HiItsMi/Python/blob/main/homework_0902.ipynb\" target=\"_parent\"><img src=\"https://colab.research.google.com/assets/colab-badge.svg\" alt=\"Open In Colab\"/></a>"
      ]
    },
    {
      "cell_type": "code",
      "metadata": {
        "colab": {
          "base_uri": "https://localhost:8080/"
        },
        "id": "or9YeDwuif7q",
        "outputId": "112f2ecb-3606-43c2-be9a-ed9dd0365bc7"
      },
      "source": [
        "# 001\n",
        "print('Hello World')"
      ],
      "execution_count": null,
      "outputs": [
        {
          "output_type": "stream",
          "name": "stdout",
          "text": [
            "Hello World\n"
          ]
        }
      ]
    },
    {
      "cell_type": "code",
      "metadata": {
        "colab": {
          "base_uri": "https://localhost:8080/"
        },
        "id": "ZXZH1d_7izw2",
        "outputId": "96c0ce69-a9d7-467d-c3cc-0644d4e50d40"
      },
      "source": [
        "# 002\n",
        "print(\"Mary's cosmetics\")"
      ],
      "execution_count": null,
      "outputs": [
        {
          "output_type": "stream",
          "name": "stdout",
          "text": [
            "Mary's cosmetics\n"
          ]
        }
      ]
    },
    {
      "cell_type": "code",
      "metadata": {
        "colab": {
          "base_uri": "https://localhost:8080/"
        },
        "id": "XvrmoNtCi8Gb",
        "outputId": "226e8b5f-6851-47a7-8562-390183d805b0"
      },
      "source": [
        "# 003\n",
        "print('신씨가 소리질렀다. \\\"도둑이야\\\".')"
      ],
      "execution_count": null,
      "outputs": [
        {
          "output_type": "stream",
          "name": "stdout",
          "text": [
            "신씨가 소리질렀다. \"도둑이야\".\n"
          ]
        }
      ]
    },
    {
      "cell_type": "code",
      "metadata": {
        "colab": {
          "base_uri": "https://localhost:8080/"
        },
        "id": "fsISQReYjFg8",
        "outputId": "38a02c42-3c7c-41a8-a4aa-1c637779870d"
      },
      "source": [
        "# 004\n",
        "print('\\\"C:\\\\windows\\\"')"
      ],
      "execution_count": null,
      "outputs": [
        {
          "output_type": "stream",
          "name": "stdout",
          "text": [
            "\"C:\\windows\"\n"
          ]
        }
      ]
    },
    {
      "cell_type": "code",
      "metadata": {
        "colab": {
          "base_uri": "https://localhost:8080/"
        },
        "id": "pC_tup_vja1z",
        "outputId": "d78a70cb-5e3b-47b1-bfa9-bbd43e193234"
      },
      "source": [
        "# 005\n",
        "print(\"안녕하세요.\\n 만나서\\t\\t 반갑습니다.\")\n",
        "# \\n : 줄바꿈\n",
        "# \\t : tab"
      ],
      "execution_count": null,
      "outputs": [
        {
          "output_type": "stream",
          "name": "stdout",
          "text": [
            "안녕하세요.\n",
            " 만나서\t\t 반갑습니다.\n"
          ]
        }
      ]
    },
    {
      "cell_type": "code",
      "metadata": {
        "colab": {
          "base_uri": "https://localhost:8080/"
        },
        "id": "0v671MiOjh75",
        "outputId": "cdbb235b-c86e-4124-f51c-20b7f6c023ad"
      },
      "source": [
        "# 006\n",
        "print(\"오늘은\", \"일요일\")"
      ],
      "execution_count": null,
      "outputs": [
        {
          "output_type": "stream",
          "name": "stdout",
          "text": [
            "오늘은 일요일\n"
          ]
        }
      ]
    },
    {
      "cell_type": "code",
      "metadata": {
        "colab": {
          "base_uri": "https://localhost:8080/"
        },
        "id": "R3I3vzXqjqEA",
        "outputId": "af0b413a-9d43-4657-da2b-2e680dcedfaa"
      },
      "source": [
        "# 007\n",
        "print(\"naver;kakao;sk;samsung\")"
      ],
      "execution_count": null,
      "outputs": [
        {
          "output_type": "stream",
          "name": "stdout",
          "text": [
            "naver;kakao;sk;samsung\n"
          ]
        }
      ]
    },
    {
      "cell_type": "code",
      "metadata": {
        "colab": {
          "base_uri": "https://localhost:8080/"
        },
        "id": "iCXsRA6hjqGV",
        "outputId": "ca6746ef-cc6e-4bd3-971e-01e48480df57"
      },
      "source": [
        "# 008\n",
        "print(\"naver/kakao/sk/samsung\")"
      ],
      "execution_count": null,
      "outputs": [
        {
          "output_type": "stream",
          "name": "stdout",
          "text": [
            "naver/kakao/sk/samsung\n"
          ]
        }
      ]
    },
    {
      "cell_type": "code",
      "metadata": {
        "colab": {
          "base_uri": "https://localhost:8080/"
        },
        "id": "g5piTRyPjqI7",
        "outputId": "b061074f-1266-41a8-d799-501bd7f2e43a"
      },
      "source": [
        "# 009\n",
        "print(\"first\",\"second\",end =\"\")"
      ],
      "execution_count": null,
      "outputs": [
        {
          "output_type": "stream",
          "name": "stdout",
          "text": [
            "first second"
          ]
        }
      ]
    },
    {
      "cell_type": "code",
      "metadata": {
        "colab": {
          "base_uri": "https://localhost:8080/"
        },
        "id": "l4njL6abjqLL",
        "outputId": "da1a0be1-6cd9-4f5b-9c50-e6580a15277a"
      },
      "source": [
        "# 010\n",
        "a = 5/3\n",
        "print(a)"
      ],
      "execution_count": null,
      "outputs": [
        {
          "output_type": "stream",
          "name": "stdout",
          "text": [
            "1.6666666666666667\n"
          ]
        }
      ]
    },
    {
      "cell_type": "code",
      "metadata": {
        "colab": {
          "base_uri": "https://localhost:8080/"
        },
        "id": "6dBm1QJ9jqN2",
        "outputId": "4ec2d92d-3f4b-46d9-91c3-f15ff1af4cca"
      },
      "source": [
        "# 011\n",
        "samsung = 50000\n",
        "result = samsung * 10\n",
        "print(result)"
      ],
      "execution_count": null,
      "outputs": [
        {
          "output_type": "stream",
          "name": "stdout",
          "text": [
            "500000\n"
          ]
        }
      ]
    },
    {
      "cell_type": "code",
      "metadata": {
        "id": "FuN8YecljqQM"
      },
      "source": [
        "# 012\n",
        "total = 298000000000000\n",
        "now = 50000\n",
        "PER = 15.79"
      ],
      "execution_count": null,
      "outputs": []
    },
    {
      "cell_type": "code",
      "metadata": {
        "colab": {
          "base_uri": "https://localhost:8080/"
        },
        "id": "Eba_X2bcjqSq",
        "outputId": "44d8efab-3d52-453d-bb1c-bf3530fb62f0"
      },
      "source": [
        "# 013\n",
        "s = \"hello\"\n",
        "t = \"python\"\n",
        "r = s +'! ' + t\n",
        "print(r)"
      ],
      "execution_count": null,
      "outputs": [
        {
          "output_type": "stream",
          "name": "stdout",
          "text": [
            "hello! python\n"
          ]
        }
      ]
    },
    {
      "cell_type": "code",
      "metadata": {
        "colab": {
          "base_uri": "https://localhost:8080/"
        },
        "id": "Hbu5PoN8jqVd",
        "outputId": "ecf8ea6c-2d34-42dc-adc6-c31558998c01"
      },
      "source": [
        "# 014\n",
        "a = 2+2*3   # 8\n",
        "print(a)"
      ],
      "execution_count": null,
      "outputs": [
        {
          "output_type": "stream",
          "name": "stdout",
          "text": [
            "8\n"
          ]
        }
      ]
    },
    {
      "cell_type": "code",
      "metadata": {
        "colab": {
          "base_uri": "https://localhost:8080/"
        },
        "id": "qyMnm4fZjqXz",
        "outputId": "fba58191-1dca-4db2-f323-773eb4571e21"
      },
      "source": [
        "# 015\n",
        "a = \"132\"   #String\n",
        "type(a)"
      ],
      "execution_count": null,
      "outputs": [
        {
          "output_type": "execute_result",
          "data": {
            "text/plain": [
              "str"
            ]
          },
          "metadata": {},
          "execution_count": 20
        }
      ]
    },
    {
      "cell_type": "code",
      "metadata": {
        "colab": {
          "base_uri": "https://localhost:8080/"
        },
        "id": "YyCnWbCyjqZ7",
        "outputId": "6405355a-095d-4f23-c224-052ec3a9c224"
      },
      "source": [
        "# 016\n",
        "num_str = \"720\"\n",
        "a = int(num_str)\n",
        "type(a)"
      ],
      "execution_count": null,
      "outputs": [
        {
          "output_type": "execute_result",
          "data": {
            "text/plain": [
              "int"
            ]
          },
          "metadata": {},
          "execution_count": 23
        }
      ]
    },
    {
      "cell_type": "code",
      "metadata": {
        "colab": {
          "base_uri": "https://localhost:8080/"
        },
        "id": "-e7xKLDNjqcR",
        "outputId": "a348ac1e-a96b-4bb2-901f-89749994412c"
      },
      "source": [
        "# 017\n",
        "num = 100\n",
        "a = str(num)\n",
        "type(a)"
      ],
      "execution_count": null,
      "outputs": [
        {
          "output_type": "execute_result",
          "data": {
            "text/plain": [
              "str"
            ]
          },
          "metadata": {},
          "execution_count": 24
        }
      ]
    },
    {
      "cell_type": "code",
      "metadata": {
        "colab": {
          "base_uri": "https://localhost:8080/"
        },
        "id": "gZev1K_4jqeo",
        "outputId": "2013bfcf-99a5-4e52-ebac-b40919fb5697"
      },
      "source": [
        "# 018\n",
        "a = \"15.19\"\n",
        "b = float(a)\n",
        "type(b)"
      ],
      "execution_count": null,
      "outputs": [
        {
          "output_type": "execute_result",
          "data": {
            "text/plain": [
              "float"
            ]
          },
          "metadata": {},
          "execution_count": 25
        }
      ]
    },
    {
      "cell_type": "code",
      "metadata": {
        "colab": {
          "base_uri": "https://localhost:8080/"
        },
        "id": "mWHVzvawnfOk",
        "outputId": "ee987000-51e1-4412-a0cf-822d4a6b4b98"
      },
      "source": [
        "# 019\n",
        "n = 3\n",
        "year = \"2020\"\n",
        "a = int(year)\n",
        "print(type(a))\n",
        "\n",
        "while n != 0 :\n",
        "  n -= 1\n",
        "  print(a - n)\n",
        "  if n == 0 :\n",
        "    break"
      ],
      "execution_count": null,
      "outputs": [
        {
          "output_type": "stream",
          "name": "stdout",
          "text": [
            "<class 'int'>\n",
            "2018\n",
            "2019\n",
            "2020\n"
          ]
        }
      ]
    },
    {
      "cell_type": "code",
      "metadata": {
        "colab": {
          "base_uri": "https://localhost:8080/"
        },
        "id": "U2fGpBKrnfZz",
        "outputId": "be32caed-0c0b-4161-9dff-49ba7ce15cf6"
      },
      "source": [
        "# 020\n",
        "air = 48584\n",
        "total = air * 36\n",
        "s = str(total)\n",
        "print( s +\"원\")"
      ],
      "execution_count": null,
      "outputs": [
        {
          "output_type": "stream",
          "name": "stdout",
          "text": [
            "1749024원\n"
          ]
        }
      ]
    }
  ]
}
